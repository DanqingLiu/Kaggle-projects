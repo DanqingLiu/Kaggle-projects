{
  "nbformat": 4,
  "nbformat_minor": 0,
  "metadata": {
    "colab": {
      "name": "Mnist-Keras.ipynb",
      "version": "0.3.2",
      "provenance": [],
      "collapsed_sections": [],
      "include_colab_link": true
    },
    "kernelspec": {
      "name": "python3",
      "display_name": "Python 3"
    },
    "accelerator": "GPU"
  },
  "cells": [
    {
      "cell_type": "markdown",
      "metadata": {
        "id": "view-in-github",
        "colab_type": "text"
      },
      "source": [
        "<a href=\"https://colab.research.google.com/github/DanqingLiu/cs636/blob/master/Mnist_Keras.ipynb\" target=\"_parent\"><img src=\"https://colab.research.google.com/assets/colab-badge.svg\" alt=\"Open In Colab\"/></a>"
      ]
    },
    {
      "cell_type": "code",
      "metadata": {
        "id": "FsJ9fBrjJbh3",
        "colab_type": "code",
        "colab": {}
      },
      "source": [
        "import numpy as np\n",
        "from keras import models\n",
        "from keras import layers\n",
        "from keras.utils import to_categorical"
      ],
      "execution_count": 0,
      "outputs": []
    },
    {
      "cell_type": "markdown",
      "metadata": {
        "id": "xpVjz0NAkcYy",
        "colab_type": "text"
      },
      "source": [
        "## Load MNIST hand-written digit data"
      ]
    },
    {
      "cell_type": "code",
      "metadata": {
        "id": "HANyXdG0OZhx",
        "colab_type": "code",
        "colab": {}
      },
      "source": [
        "#!kaggle competitions download -c digit-recognizer -p /content/sample_data\n",
        "train_data = np.loadtxt(\"/content/sample_data/train.csv\",delimiter=\",\", skiprows=1)\n",
        "test_data = np.loadtxt(\"/content/sample_data/test.csv\",delimiter=\",\", skiprows=1)\n",
        "# print(traindata.shape) (42000, 785)\n",
        "# print(testdata.shape) (28000, 784)\n",
        "\n",
        "X_train = train_data[:, 1:]\n",
        "y_train = train_data[:, 0]\n",
        "\n",
        "X_test = test_data\n",
        "\n",
        "X_train = X_train.astype('float32')/255\n",
        "X_test = X_test.astype('float32')/255\n",
        "\n",
        "y_train = to_categorical(y_train)\n"
      ],
      "execution_count": 0,
      "outputs": []
    },
    {
      "cell_type": "markdown",
      "metadata": {
        "id": "SyDV1eEDrzo-",
        "colab_type": "text"
      },
      "source": [
        "## Build a network"
      ]
    },
    {
      "cell_type": "code",
      "metadata": {
        "id": "n2kSedqpgC4N",
        "colab_type": "code",
        "colab": {}
      },
      "source": [
        "network = models.Sequential()\n",
        "network.add(layers.Dense(512, activation='relu', input_shape=(28*28,)))\n",
        "network.add(layers.Dense(10, activation='softmax'))"
      ],
      "execution_count": 0,
      "outputs": []
    },
    {
      "cell_type": "code",
      "metadata": {
        "id": "dSyz6x-ziIA_",
        "colab_type": "code",
        "colab": {}
      },
      "source": [
        "# network-compilation\n",
        "network.compile(optimizer='rmsprop',\n",
        "                loss='categorical_crossentropy',\n",
        "                metrics=['accuracy'])"
      ],
      "execution_count": 0,
      "outputs": []
    },
    {
      "cell_type": "code",
      "metadata": {
        "id": "VxHiTbjqvsEk",
        "colab_type": "code",
        "colab": {
          "base_uri": "https://localhost:8080/",
          "height": 206
        },
        "outputId": "3d424ae7-4c0b-43dc-bdc7-649d7bc68fe2"
      },
      "source": [
        "# training\n",
        "network.fit(X_train, y_train, epochs=5, batch_size=128)"
      ],
      "execution_count": 96,
      "outputs": [
        {
          "output_type": "stream",
          "text": [
            "Epoch 1/5\n",
            "42000/42000 [==============================] - 1s 29us/step - loss: 0.2992 - acc: 0.9136\n",
            "Epoch 2/5\n",
            "42000/42000 [==============================] - 1s 23us/step - loss: 0.1244 - acc: 0.9632\n",
            "Epoch 3/5\n",
            "42000/42000 [==============================] - 1s 22us/step - loss: 0.0808 - acc: 0.9759\n",
            "Epoch 4/5\n",
            "42000/42000 [==============================] - 1s 22us/step - loss: 0.0579 - acc: 0.9830\n",
            "Epoch 5/5\n",
            "42000/42000 [==============================] - 1s 22us/step - loss: 0.0428 - acc: 0.9869\n"
          ],
          "name": "stdout"
        },
        {
          "output_type": "execute_result",
          "data": {
            "text/plain": [
              "<keras.callbacks.History at 0x7f760b39da20>"
            ]
          },
          "metadata": {
            "tags": []
          },
          "execution_count": 96
        }
      ]
    },
    {
      "cell_type": "markdown",
      "metadata": {
        "id": "vaZByykq2qrL",
        "colab_type": "text"
      },
      "source": [
        "## Predict the test data, save it to a csv file"
      ]
    },
    {
      "cell_type": "code",
      "metadata": {
        "id": "ysGkAD1rv7HE",
        "colab_type": "code",
        "colab": {}
      },
      "source": [
        "preds = network.predict(X_test, batch_size=None, verbose=0, steps=None)\n",
        "\n",
        "label = np.argmax(preds, axis=-1)\n",
        "imageId = np.arange(X_test.shape[0])\n",
        "\n",
        "np.savetxt(\"submit.csv\", np.dstack((np.arange(1, label.size+1),label))[0],\"%d,%d\",header=\"ImageId,Label\", comments='')"
      ],
      "execution_count": 0,
      "outputs": []
    },
    {
      "cell_type": "markdown",
      "metadata": {
        "id": "1hddSxClplQN",
        "colab_type": "text"
      },
      "source": [
        "##[For test] Using MNIST train/test dataset from keras"
      ]
    },
    {
      "cell_type": "code",
      "metadata": {
        "id": "QWpfxSaPpup6",
        "colab_type": "code",
        "colab": {}
      },
      "source": [
        "from keras.datasets import mnist\n",
        "(X_train, y_train), (X_test, y_test) = mnist.load_data()"
      ],
      "execution_count": 0,
      "outputs": []
    },
    {
      "cell_type": "code",
      "metadata": {
        "id": "dbzUp6UzqALb",
        "colab_type": "code",
        "colab": {
          "base_uri": "https://localhost:8080/",
          "height": 34
        },
        "outputId": "a78b5231-c1f0-4210-c13d-2fcacd851eab"
      },
      "source": [
        "X_test = X_test.reshape(X_test.shape[0], 28*28)\n",
        "y_test = to_categorical(y_test)\n",
        "test_loss, test_acc = network.evaluate(X_test, y_test)"
      ],
      "execution_count": 102,
      "outputs": [
        {
          "output_type": "stream",
          "text": [
            "10000/10000 [==============================] - 0s 43us/step\n"
          ],
          "name": "stdout"
        }
      ]
    },
    {
      "cell_type": "code",
      "metadata": {
        "id": "TwiUwiB0qVk3",
        "colab_type": "code",
        "colab": {
          "base_uri": "https://localhost:8080/",
          "height": 34
        },
        "outputId": "0d2e18dc-218e-451e-bfe3-a7f12a078041"
      },
      "source": [
        "print(\"Test accuracy: \", test_acc)"
      ],
      "execution_count": 103,
      "outputs": [
        {
          "output_type": "stream",
          "text": [
            "Test accuracy:  0.9848\n"
          ],
          "name": "stdout"
        }
      ]
    }
  ]
}