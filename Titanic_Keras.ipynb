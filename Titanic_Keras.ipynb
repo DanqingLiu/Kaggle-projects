{
  "nbformat": 4,
  "nbformat_minor": 0,
  "metadata": {
    "colab": {
      "name": "Titanic-Keras.ipynb",
      "version": "0.3.2",
      "provenance": [],
      "collapsed_sections": [],
      "toc_visible": true,
      "include_colab_link": true
    },
    "kernelspec": {
      "name": "python3",
      "display_name": "Python 3"
    }
  },
  "cells": [
    {
      "cell_type": "markdown",
      "metadata": {
        "id": "view-in-github",
        "colab_type": "text"
      },
      "source": [
        "<a href=\"https://colab.research.google.com/github/DanqingLiu/cs636/blob/master/Titanic_Keras.ipynb\" target=\"_parent\"><img src=\"https://colab.research.google.com/assets/colab-badge.svg\" alt=\"Open In Colab\"/></a>"
      ]
    },
    {
      "cell_type": "code",
      "metadata": {
        "id": "-fPxvwbuzXVM",
        "colab_type": "code",
        "colab": {}
      },
      "source": [
        "# !cp /content/kaggle.json /root/.kaggle/\n",
        "# !chmod 600 /root/.kaggle/kaggle.json\n",
        "# !kaggle competitions download -c titanic\n",
        "import pandas as pd\n",
        "import numpy as np\n",
        "import seaborn as sns\n",
        "import matplotlib.pyplot as plt"
      ],
      "execution_count": 0,
      "outputs": []
    },
    {
      "cell_type": "markdown",
      "metadata": {
        "id": "ugqFpFjdhpvj",
        "colab_type": "text"
      },
      "source": [
        "## Data Preprocessing\n",
        "\n",
        "### Discard ' Name', 'PassengerId', 'Ticket', 'Cabin'. \n",
        "### Drop samples with missing data.\n",
        "### Fill missing 'Age' and 'Fare' with the median value in test data."
      ]
    },
    {
      "cell_type": "code",
      "metadata": {
        "id": "hnnfFHh-zzP0",
        "colab_type": "code",
        "colab": {}
      },
      "source": [
        "train_data = pd.read_csv(\"/content/train.csv\")\n",
        "test_data = pd.read_csv(\"/content/test.csv\")\n",
        "# print(train_data.shape) #(891, 12)\n",
        "# print(test_data.shape) #(418, 11)\n",
        "\n",
        "#print(train_data.columns.values) #['PassengerId' 'Survived' 'Pclass' 'Name' 'Sex' 'Age' 'SibSp' 'Parch' 'Ticket' 'Fare' 'Cabin' 'Embarked']\n",
        "# train_data.head()\n",
        "# train_data.info()\n",
        "# train_data.describe()\n",
        "# train_data.describe(include=['O'])\n",
        "# train_data[['Pclass', 'Survived']].groupby(['Pclass'], as_index=False).mean().sort_values(by='Survived', ascending=False)\n",
        "# g = sns.FacetGrid(train_data, col='Survived', row='Pclass')\n",
        "# g.map(plt.hist, 'Age', bins=20)\n",
        "# g.add_legend()"
      ],
      "execution_count": 0,
      "outputs": []
    },
    {
      "cell_type": "code",
      "metadata": {
        "id": "NQ9ah4Uo11cn",
        "colab_type": "code",
        "colab": {}
      },
      "source": [
        "train_data = train_data.drop(['Name', 'PassengerId', 'Ticket', 'Cabin'], axis=1)\n",
        "X_test = test_data.drop(['Name', 'PassengerId', 'Ticket', 'Cabin'], axis=1)\n",
        "train_data = train_data.dropna()\n",
        "\n",
        "train_data['Sex'] = train_data['Sex'].map( {'female': 1, 'male': 0} ).astype(int)\n",
        "X_test['Sex'] = X_test['Sex'].map( {'female': 1, 'male': 0} ).astype(int)\n",
        "train_data['Embarked'] = train_data['Embarked'].map( {'S': 2, 'C': 1, 'Q': 0} ).astype(int)\n",
        "X_test['Embarked'] = X_test['Embarked'].map( {'S': 2, 'C': 1, 'Q': 0} ).astype(int)\n",
        "\n",
        "X_train = train_data.drop(['Survived'], axis=1)\n",
        "Y_train = train_data['Survived']\n",
        "\n",
        "X_test.loc[(X_test.Age.isnull()), 'Age'] = X_test['Age'].median()\n",
        "X_test.loc[(X_test.Fare.isnull()), 'Fare'] = X_test['Fare'].median()\n"
      ],
      "execution_count": 0,
      "outputs": []
    },
    {
      "cell_type": "markdown",
      "metadata": {
        "id": "uPc9rIS463Ec",
        "colab_type": "text"
      },
      "source": [
        "## Build NN model"
      ]
    },
    {
      "cell_type": "code",
      "metadata": {
        "id": "geumtVbnfLhP",
        "colab_type": "code",
        "colab": {
          "base_uri": "https://localhost:8080/",
          "height": 377
        },
        "outputId": "e4c34f35-fc83-4f45-a641-e37440ae0e7e"
      },
      "source": [
        "from keras import models\n",
        "from keras import layers\n",
        "\n",
        "model = models.Sequential()\n",
        "model.add(layers.Dense(16, activation='relu',input_shape=(7,)))\n",
        "model.add(layers.Dense(16, activation='relu'))\n",
        "model.add(layers.Dense(1, activation='sigmoid'))\n",
        "model.compile(optimizer='rmsprop',\n",
        "             loss='binary_crossentropy',\n",
        "             metrics=['accuracy'])\n",
        "model.fit(X_train,Y_train,epochs=10,batch_size=16)\n"
      ],
      "execution_count": 93,
      "outputs": [
        {
          "output_type": "stream",
          "text": [
            "Epoch 1/10\n",
            "712/712 [==============================] - 1s 715us/step - loss: 0.8219 - acc: 0.6826\n",
            "Epoch 2/10\n",
            "712/712 [==============================] - 0s 72us/step - loss: 0.6696 - acc: 0.6826\n",
            "Epoch 3/10\n",
            "712/712 [==============================] - 0s 70us/step - loss: 0.6462 - acc: 0.6882\n",
            "Epoch 4/10\n",
            "712/712 [==============================] - 0s 70us/step - loss: 0.6378 - acc: 0.7051\n",
            "Epoch 5/10\n",
            "712/712 [==============================] - 0s 68us/step - loss: 0.6178 - acc: 0.7135\n",
            "Epoch 6/10\n",
            "712/712 [==============================] - 0s 72us/step - loss: 0.6358 - acc: 0.6994\n",
            "Epoch 7/10\n",
            "712/712 [==============================] - 0s 69us/step - loss: 0.6198 - acc: 0.7065\n",
            "Epoch 8/10\n",
            "712/712 [==============================] - 0s 69us/step - loss: 0.6081 - acc: 0.7163\n",
            "Epoch 9/10\n",
            "712/712 [==============================] - 0s 72us/step - loss: 0.6184 - acc: 0.7177\n",
            "Epoch 10/10\n",
            "712/712 [==============================] - 0s 70us/step - loss: 0.6066 - acc: 0.7261\n"
          ],
          "name": "stdout"
        },
        {
          "output_type": "execute_result",
          "data": {
            "text/plain": [
              "<keras.callbacks.History at 0x7fb6c11fc3c8>"
            ]
          },
          "metadata": {
            "tags": []
          },
          "execution_count": 93
        }
      ]
    },
    {
      "cell_type": "markdown",
      "metadata": {
        "id": "kvGARXFV-Jqg",
        "colab_type": "text"
      },
      "source": [
        "## Predict with the model (Test accuracy: 66.9%)"
      ]
    },
    {
      "cell_type": "code",
      "metadata": {
        "id": "mfZVz_1WnyyS",
        "colab_type": "code",
        "colab": {}
      },
      "source": [
        "y_pred = model.predict(X_test)\n",
        "label = (y_pred > 0.5)\n",
        "PassengerId = (test_data['PassengerId'])\n",
        "PassengerId = PassengerId.values.reshape(418,1)\n",
        "\n",
        "np.savetxt(\"submit.csv\", np.concatenate((PassengerId, label), axis=1), \"%d,%d\", header=\"PassengerId,Survived\", comments='')"
      ],
      "execution_count": 0,
      "outputs": []
    },
    {
      "cell_type": "markdown",
      "metadata": {
        "id": "EDkv6a_XUmRJ",
        "colab_type": "text"
      },
      "source": [
        "## LogisticRegression (Test accuracy: 73.7%)"
      ]
    },
    {
      "cell_type": "code",
      "metadata": {
        "id": "TFuo1vj2UqBA",
        "colab_type": "code",
        "colab": {}
      },
      "source": [
        "from sklearn.linear_model import LogisticRegression"
      ],
      "execution_count": 0,
      "outputs": []
    },
    {
      "cell_type": "code",
      "metadata": {
        "id": "JrieyBiFUr2C",
        "colab_type": "code",
        "colab": {
          "base_uri": "https://localhost:8080/",
          "height": 71
        },
        "outputId": "f052cae6-6687-4621-d0d1-c61959054267"
      },
      "source": [
        "logreg = LogisticRegression()\n",
        "logreg.fit(X_train, Y_train)\n",
        "Y_pred = logreg.predict(X_test)\n",
        "# acc_log = round(logreg.score(X_train, Y_train) * 100, 2)\n",
        "# acc_log\n",
        "Y_pred = Y_pred.reshape(418,1)\n",
        "PassengerId = (test_data['PassengerId'])\n",
        "PassengerId = PassengerId.values.reshape(418,1)\n",
        "\n",
        "np.savetxt(\"submit-logistic-regression.csv\", np.concatenate((PassengerId, Y_pred), axis=1), \"%d,%d\", header=\"PassengerId,Survived\", comments='')"
      ],
      "execution_count": 105,
      "outputs": [
        {
          "output_type": "stream",
          "text": [
            "/usr/local/lib/python3.6/dist-packages/sklearn/linear_model/logistic.py:432: FutureWarning: Default solver will be changed to 'lbfgs' in 0.22. Specify a solver to silence this warning.\n",
            "  FutureWarning)\n"
          ],
          "name": "stderr"
        }
      ]
    },
    {
      "cell_type": "markdown",
      "metadata": {
        "id": "_HjNGG6fXeh-",
        "colab_type": "text"
      },
      "source": [
        "## Decision tree (Test accuracy: 63.6%)"
      ]
    },
    {
      "cell_type": "code",
      "metadata": {
        "id": "CH8m5Zx0U-p8",
        "colab_type": "code",
        "colab": {}
      },
      "source": [
        "from sklearn.tree import DecisionTreeClassifier\n",
        "\n",
        "decision_tree = DecisionTreeClassifier()\n",
        "decision_tree.fit(X_train, Y_train)\n",
        "Y_pred = decision_tree.predict(X_test)\n",
        "# acc_decision_tree = round(decision_tree.score(X_train, Y_train) * 100, 2)\n",
        "# acc_decision_tree\n",
        "Y_pred = Y_pred.reshape(418,1)\n",
        "PassengerId = (test_data['PassengerId'])\n",
        "PassengerId = PassengerId.values.reshape(418,1)\n",
        "\n",
        "np.savetxt(\"submit-decision-tree.csv\", np.concatenate((PassengerId, Y_pred), axis=1), \"%d,%d\", header=\"PassengerId,Survived\", comments='')"
      ],
      "execution_count": 0,
      "outputs": []
    },
    {
      "cell_type": "code",
      "metadata": {
        "id": "AcmsOXLuYfoT",
        "colab_type": "code",
        "colab": {}
      },
      "source": [
        ""
      ],
      "execution_count": 0,
      "outputs": []
    }
  ]
}